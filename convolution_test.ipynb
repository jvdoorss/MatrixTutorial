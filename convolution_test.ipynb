{
 "cells": [
  {
   "cell_type": "code",
   "execution_count": 1,
   "metadata": {},
   "outputs": [
    {
     "name": "stdout",
     "output_type": "stream",
     "text": [
      "[[   0    1    2 ...,   97   98   99]\n",
      " [ 100  101  102 ...,  197  198  199]\n",
      " [ 200  201  202 ...,  297  298  299]\n",
      " ..., \n",
      " [9700 9701 9702 ..., 9797 9798 9799]\n",
      " [9800 9801 9802 ..., 9897 9898 9899]\n",
      " [9900 9901 9902 ..., 9997 9998 9999]]\n"
     ]
    }
   ],
   "source": [
    "import numpy as np\n",
    "import time\n",
    "n=100\n",
    "\n",
    "kernel = np.arange(n**2).reshape((n,n))\n",
    "print(kernel)"
   ]
  },
  {
   "cell_type": "code",
   "execution_count": 2,
   "metadata": {},
   "outputs": [],
   "source": [
    "def conv0(K):\n",
    "    #naive method\n",
    "    n=len(K)\n",
    "    result= np.zeros((n,n,n,n))\n",
    "    for k in range(n):\n",
    "        for l in range(n):\n",
    "            for i in range(n):\n",
    "                for j in range(n):\n",
    "                    result[i,j,k,l] = K[i-k,j-l] if ((i-k)>=0 and (j-l)>=0) else 0\n",
    "    return result\n",
    "\n",
    "def conv1(K):\n",
    "    #slightly clever method\n",
    "    n=len(K)\n",
    "    a=np.array([[1 if j-i ==-1 else 0 for j in range(n)] for i in range(n)])\n",
    "    aT=a.T\n",
    "\n",
    "    halfshiftedkernels=[K]\n",
    "    hsk = K\n",
    "    for k in range(n):\n",
    "        hsk = np.dot(a,hsk)\n",
    "        halfshiftedkernels += [hsk]\n",
    "    halfshiftedkernels = np.array(halfshiftedkernels)\n",
    "\n",
    "    shiftedkernels = [halfshiftedkernels]\n",
    "    sk= halfshiftedkernels\n",
    "    for l in range(n):\n",
    "            sk = np.dot(sk,aT)\n",
    "            shiftedkernels += [sk]\n",
    "    return np.transpose(np.array(shiftedkernels),(2,3,1,0))\n",
    "\n",
    "def preconv(n):\n",
    "    # auxiliary function to make upper triangular nxnxn matrix\n",
    "    a=np.array([[1 if (j-i ==-1) else 0 for j in range(n)] for i in range(n)])\n",
    "    \n",
    "    hsk=np.eye(n,n)\n",
    "    halfshiftedkernels=[hsk]\n",
    "    for k in range(n):\n",
    "        hsk = np.dot(a,hsk)\n",
    "        halfshiftedkernels += [hsk]\n",
    "    A = np.array(halfshiftedkernels)\n",
    "    \n",
    "    return A\n",
    "\n",
    "def conv2(K):\n",
    "    # cleverder method\n",
    "    t=time.time()\n",
    "    A = preconv(len(K)) #this step is recyclable for same dimensions\n",
    "    print('auxtime:'+str(time.time()-t))\n",
    "    AT = np.transpose(A,(1,2,0))\n",
    "    result = np.dot(np.dot(A,K),AT)\n",
    "    return np.transpose(result,(1,2,0,3))        \n"
   ]
  },
  {
   "cell_type": "code",
   "execution_count": 3,
   "metadata": {},
   "outputs": [
    {
     "name": "stdout",
     "output_type": "stream",
     "text": [
      "[[ 404.  403.  402. ...,    0.    0.    0.]\n",
      " [ 304.  303.  302. ...,    0.    0.    0.]\n",
      " [ 204.  203.  202. ...,    0.    0.    0.]\n",
      " ..., \n",
      " [   0.    0.    0. ...,    0.    0.    0.]\n",
      " [   0.    0.    0. ...,    0.    0.    0.]\n",
      " [   0.    0.    0. ...,    0.    0.    0.]]\n",
      "24.863622903823853\n",
      "[[404 403 402 ...,   0   0   0]\n",
      " [304 303 302 ...,   0   0   0]\n",
      " [204 203 202 ...,   0   0   0]\n",
      " ..., \n",
      " [  0   0   0 ...,   0   0   0]\n",
      " [  0   0   0 ...,   0   0   0]\n",
      " [  0   0   0 ...,   0   0   0]]\n",
      "4.386164903640747\n",
      "auxtime:0.012032270431518555\n",
      "[[ 404.  403.  402. ...,    0.    0.    0.]\n",
      " [ 304.  303.  302. ...,    0.    0.    0.]\n",
      " [ 204.  203.  202. ...,    0.    0.    0.]\n",
      " ..., \n",
      " [   0.    0.    0. ...,    0.    0.    0.]\n",
      " [   0.    0.    0. ...,    0.    0.    0.]\n",
      " [   0.    0.    0. ...,    0.    0.    0.]]\n",
      "8.558761596679688\n"
     ]
    }
   ],
   "source": [
    "t=time.time()\n",
    "print(conv0(kernel)[4,4])\n",
    "print(time.time()-t)\n",
    "\n",
    "t=time.time()\n",
    "print(conv1(kernel)[4,4])\n",
    "print(time.time()-t)\n",
    "\n",
    "t=time.time()\n",
    "print(conv2(kernel)[4,4])\n",
    "print(time.time()-t)"
   ]
  },
  {
   "cell_type": "code",
   "execution_count": null,
   "metadata": {
    "collapsed": true
   },
   "outputs": [],
   "source": []
  }
 ],
 "metadata": {
  "kernelspec": {
   "display_name": "Python 3",
   "language": "python",
   "name": "python3"
  },
  "language_info": {
   "codemirror_mode": {
    "name": "ipython",
    "version": 3
   },
   "file_extension": ".py",
   "mimetype": "text/x-python",
   "name": "python",
   "nbconvert_exporter": "python",
   "pygments_lexer": "ipython3",
   "version": "3.5.0"
  }
 },
 "nbformat": 4,
 "nbformat_minor": 2
}
