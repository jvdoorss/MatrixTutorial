{
 "cells": [
  {
   "cell_type": "code",
   "execution_count": 1,
   "metadata": {
    "collapsed": true
   },
   "outputs": [],
   "source": [
    "import numpy as np\n",
    "def rot(a):\n",
    "    return np.flip(a.T,0)\n",
    "def a_print(A):\n",
    "    for a in A:\n",
    "        print(a)"
   ]
  },
  {
   "cell_type": "code",
   "execution_count": 2,
   "metadata": {
    "scrolled": true
   },
   "outputs": [
    {
     "name": "stdout",
     "output_type": "stream",
     "text": [
      "A\n",
      "[0 1]\n",
      "[2 3]\n",
      "[4 5]\n",
      "B\n",
      "[0 1 5]\n",
      "[2 4 3]\n"
     ]
    }
   ],
   "source": [
    "print('A')\n",
    "A=np.arange(6).reshape((3,2))\n",
    "a_print(A)\n",
    "print('B')\n",
    "B=np.array([[0,1,5],[2,4,3]])\n",
    "a_print(B)"
   ]
  },
  {
   "cell_type": "code",
   "execution_count": 3,
   "metadata": {},
   "outputs": [],
   "source": [
    "from scipy.signal import convolve2d as conv\n",
    "\n",
    "def comp(A,B):\n",
    "    #pattern to search in both grids \n",
    "    pat = np.array([[1,10],[100,0]])\n",
    "    \n",
    "    pat=np.flip(np.flip(pat,axis=0),axis=1)\n",
    "    sP = pat.shape\n",
    "    sA = A.shape\n",
    "    sB = B.shape\n",
    "    Ai,Aj,Bk,Bl = np.nonzero(((conv(A,pat,mode='valid').reshape((1,-1))-conv(B,pat,mode='valid').reshape((-1,1)))==0).reshape((sA[0]-sP[0]+1,sA[1]-sP[1]+1,sB[0]-sP[0]+1,sB[1]-sP[1]+1)))\n",
    "    for i,j,k,l in zip(Ai,Aj,Bk,Bl):\n",
    "        print('A-embedding')\n",
    "        dummyA = np.zeros((sA[0]+sB[0]-sP[0]+1,sA[1]+sB[1]-sP[1]+1))                \n",
    "        dummyA[i:(i+sA[0]),j:(j+sA[1])]=A\n",
    "        a_print(dummyA)\n",
    "        print('B-embedding')\n",
    "        dummyB = np.zeros((sA[0]+sB[0]-sP[0]+1,sA[1]+sB[1]-sP[1]+1))\n",
    "        dummyB[k:(k+sB[0]),l:(l+sB[1])]=B\n",
    "        a_print(dummyB)\n",
    "        print('----------------------------')\n"
   ]
  },
  {
   "cell_type": "code",
   "execution_count": 4,
   "metadata": {},
   "outputs": [
    {
     "name": "stdout",
     "output_type": "stream",
     "text": [
      "A-embedding\n",
      "[ 0.  1.  0.  0.]\n",
      "[ 2.  3.  0.  0.]\n",
      "[ 4.  5.  0.  0.]\n",
      "[ 0.  0.  0.  0.]\n",
      "B-embedding\n",
      "[ 0.  1.  5.  0.]\n",
      "[ 2.  4.  3.  0.]\n",
      "[ 0.  0.  0.  0.]\n",
      "[ 0.  0.  0.  0.]\n",
      "----------------------------\n"
     ]
    }
   ],
   "source": [
    "for r in range(4):\n",
    "    comp(A,B)\n",
    "    B=rot(B)"
   ]
  },
  {
   "cell_type": "code",
   "execution_count": null,
   "metadata": {
    "collapsed": true
   },
   "outputs": [],
   "source": []
  }
 ],
 "metadata": {
  "kernelspec": {
   "display_name": "Python 3",
   "language": "python",
   "name": "python3"
  },
  "language_info": {
   "codemirror_mode": {
    "name": "ipython",
    "version": 3
   },
   "file_extension": ".py",
   "mimetype": "text/x-python",
   "name": "python",
   "nbconvert_exporter": "python",
   "pygments_lexer": "ipython3",
   "version": "3.5.5"
  }
 },
 "nbformat": 4,
 "nbformat_minor": 2
}
